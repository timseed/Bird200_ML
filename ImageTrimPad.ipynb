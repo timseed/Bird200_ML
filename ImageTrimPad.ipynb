{
 "cells": [
  {
   "cell_type": "code",
   "execution_count": 63,
   "metadata": {},
   "outputs": [],
   "source": [
    "import pandas as pd\n",
    "import os\n",
    "from PIL import Image\n",
    "OUTPUT=\"data/trimmed/\"\n",
    "SOURCE=\"CUB_200_2011/images/\"\n",
    "os.system(\"rm -Rf data/\")\n",
    "os.mkdir(\"data\")\n",
    "os.mkdir(\"data/trimmed\")\n",
    "\n",
    "#Get Files to be trimmed\n",
    "with open(\"CUB_200_2011/images.txt\",\"rt\") as imgfile:\n",
    "    images=[i.strip().split(' ') for i in imgfile.readlines()]\n",
    "with open(\"CUB_200_2011/bounding_boxes.txt\",\"rt\") as boxfile:\n",
    "    box=[ i.strip().split() for i in boxfile.readlines()]\n",
    "df_image=pd.DataFrame.from_records(images,columns=['id','file'])\n",
    "df_image['Class']=df_image.file.apply(lambda x: (x.split('/')[0])[4:])\n",
    "df_image['File']=df_image.file.apply(lambda x: (x.split('/')[1]))\n",
    "\n",
    "df_box=pd.DataFrame.from_records(box,columns=['id','startX','startY','endX','endY'])\n",
    "df_image=df_image.merge(df_box,on='id')\n",
    "\n",
    "for file in df_image.iterrows():\n",
    "    if not os.path.exists(OUTPUT+file[1].Class):\n",
    "        os.mkdir(OUTPUT+file[1].Class)\n",
    "    im = Image.open(SOURCE+file[1].file)\n",
    "    box = (int(float(file[1].startX)),\n",
    "       int(float(file[1].startY)),\n",
    "       int(float(file[1].endX))+int(float(file[1].startX)),\n",
    "       int(float(file[1].startY))+int(float(file[1].endY)))\n",
    "    region = im.crop(box)\n",
    "    # Make a Box ... So all Images are scaled the same\n",
    "    # i.e. keep the same aspect ratio\n",
    "    new_dimension=max(list(region.size))\n",
    "    blank = Image.new('RGB',size=(new_dimension, new_dimension),color='White')\n",
    "    blank.paste(region,(0,0))\n",
    "    blank.save(OUTPUT+file[1].Class+\"/\"+file[1].File)\n",
    "print(\"Image trimming completed\")"
   ]
  },
  {
   "cell_type": "code",
   "execution_count": null,
   "metadata": {},
   "outputs": [],
   "source": []
  }
 ],
 "metadata": {
  "kernelspec": {
   "display_name": "py37",
   "language": "python",
   "name": "py37"
  },
  "language_info": {
   "codemirror_mode": {
    "name": "ipython",
    "version": 3
   },
   "file_extension": ".py",
   "mimetype": "text/x-python",
   "name": "python",
   "nbconvert_exporter": "python",
   "pygments_lexer": "ipython3",
   "version": "3.7.3"
  }
 },
 "nbformat": 4,
 "nbformat_minor": 2
}
