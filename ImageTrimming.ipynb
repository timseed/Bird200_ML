{
 "cells": [
  {
   "cell_type": "code",
   "execution_count": null,
   "metadata": {},
   "outputs": [],
   "source": [
    "import pandas as pd\n",
    "import os\n",
    "from PIL import Image\n",
    "OUTPUT=\"data/trimmed/\"\n",
    "SOURCE=\"CUB_200_2011/images/\"\n",
    "os.system(\"rm -Rf data/\")\n",
    "os.mkdir(\"data\")\n",
    "os.mkdir(\"data/trimmed\")\n",
    "\n",
    "#Get Files to be trimmed\n",
    "with open(\"CUB_200_2011/images.txt\",\"rt\") as imgfile:\n",
    "    images=[i.strip().split(' ') for i in imgfile.readlines()]\n",
    "with open(\"CUB_200_2011/bounding_boxes.txt\",\"rt\") as boxfile:\n",
    "    box=[ i.strip().split() for i in boxfile.readlines()]\n",
    "df_image=pd.DataFrame.from_records(images,columns=['id','file'])\n",
    "df_image['Class']=df_image.file.apply(lambda x: (x.split('/')[0])[4:])\n",
    "df_image['File']=df_image.file.apply(lambda x: (x.split('/')[1]))\n",
    "\n",
    "df_box=pd.DataFrame.from_records(box,columns=['id','startX','startY','endX','endY'])\n",
    "df_image=df_image.merge(df_box,on='id')\n",
    "\n",
    "for file in df_image.iterrows():\n",
    "    if not os.path.exists(OUTPUT+file[1].Class):\n",
    "        os.mkdir(OUTPUT+file[1].Class)\n",
    "    im = Image.open(SOURCE+file[1].file)\n",
    "    box = (int(float(file[1].startX)),\n",
    "       int(float(file[1].startY)),\n",
    "       int(float(file[1].endX))+int(float(file[1].startX)),\n",
    "       int(float(file[1].startY))+int(float(file[1].endY)))\n",
    "    region = im.crop(box)\n",
    "    region.save(OUTPUT+file[1].Class+\"/\"+file[1].File)\n",
    "print(\"Image trimming completed\")"
   ]
  },
  {
   "cell_type": "code",
   "execution_count": 92,
   "metadata": {},
   "outputs": [
    {
     "data": {
      "text/html": [
       "<div>\n",
       "<style scoped>\n",
       "    .dataframe tbody tr th:only-of-type {\n",
       "        vertical-align: middle;\n",
       "    }\n",
       "\n",
       "    .dataframe tbody tr th {\n",
       "        vertical-align: top;\n",
       "    }\n",
       "\n",
       "    .dataframe thead th {\n",
       "        text-align: right;\n",
       "    }\n",
       "</style>\n",
       "<table border=\"1\" class=\"dataframe\">\n",
       "  <thead>\n",
       "    <tr style=\"text-align: right;\">\n",
       "      <th></th>\n",
       "      <th>id</th>\n",
       "      <th>file</th>\n",
       "      <th>Class</th>\n",
       "      <th>File</th>\n",
       "      <th>startX</th>\n",
       "      <th>startY</th>\n",
       "      <th>endX</th>\n",
       "      <th>endY</th>\n",
       "    </tr>\n",
       "  </thead>\n",
       "  <tbody>\n",
       "    <tr>\n",
       "      <th>0</th>\n",
       "      <td>1</td>\n",
       "      <td>001.Black_footed_Albatross/Black_Footed_Albatr...</td>\n",
       "      <td>Black_footed_Albatross</td>\n",
       "      <td>Black_Footed_Albatross_0046_18.jpg</td>\n",
       "      <td>60.0</td>\n",
       "      <td>27.0</td>\n",
       "      <td>325.0</td>\n",
       "      <td>304.0</td>\n",
       "    </tr>\n",
       "    <tr>\n",
       "      <th>1</th>\n",
       "      <td>2</td>\n",
       "      <td>001.Black_footed_Albatross/Black_Footed_Albatr...</td>\n",
       "      <td>Black_footed_Albatross</td>\n",
       "      <td>Black_Footed_Albatross_0009_34.jpg</td>\n",
       "      <td>139.0</td>\n",
       "      <td>30.0</td>\n",
       "      <td>153.0</td>\n",
       "      <td>264.0</td>\n",
       "    </tr>\n",
       "    <tr>\n",
       "      <th>2</th>\n",
       "      <td>3</td>\n",
       "      <td>001.Black_footed_Albatross/Black_Footed_Albatr...</td>\n",
       "      <td>Black_footed_Albatross</td>\n",
       "      <td>Black_Footed_Albatross_0002_55.jpg</td>\n",
       "      <td>14.0</td>\n",
       "      <td>112.0</td>\n",
       "      <td>388.0</td>\n",
       "      <td>186.0</td>\n",
       "    </tr>\n",
       "    <tr>\n",
       "      <th>3</th>\n",
       "      <td>4</td>\n",
       "      <td>001.Black_footed_Albatross/Black_Footed_Albatr...</td>\n",
       "      <td>Black_footed_Albatross</td>\n",
       "      <td>Black_Footed_Albatross_0074_59.jpg</td>\n",
       "      <td>112.0</td>\n",
       "      <td>90.0</td>\n",
       "      <td>255.0</td>\n",
       "      <td>242.0</td>\n",
       "    </tr>\n",
       "    <tr>\n",
       "      <th>4</th>\n",
       "      <td>5</td>\n",
       "      <td>001.Black_footed_Albatross/Black_Footed_Albatr...</td>\n",
       "      <td>Black_footed_Albatross</td>\n",
       "      <td>Black_Footed_Albatross_0014_89.jpg</td>\n",
       "      <td>70.0</td>\n",
       "      <td>50.0</td>\n",
       "      <td>134.0</td>\n",
       "      <td>303.0</td>\n",
       "    </tr>\n",
       "  </tbody>\n",
       "</table>\n",
       "</div>"
      ],
      "text/plain": [
       "  id                                               file  \\\n",
       "0  1  001.Black_footed_Albatross/Black_Footed_Albatr...   \n",
       "1  2  001.Black_footed_Albatross/Black_Footed_Albatr...   \n",
       "2  3  001.Black_footed_Albatross/Black_Footed_Albatr...   \n",
       "3  4  001.Black_footed_Albatross/Black_Footed_Albatr...   \n",
       "4  5  001.Black_footed_Albatross/Black_Footed_Albatr...   \n",
       "\n",
       "                    Class                                File startX startY  \\\n",
       "0  Black_footed_Albatross  Black_Footed_Albatross_0046_18.jpg   60.0   27.0   \n",
       "1  Black_footed_Albatross  Black_Footed_Albatross_0009_34.jpg  139.0   30.0   \n",
       "2  Black_footed_Albatross  Black_Footed_Albatross_0002_55.jpg   14.0  112.0   \n",
       "3  Black_footed_Albatross  Black_Footed_Albatross_0074_59.jpg  112.0   90.0   \n",
       "4  Black_footed_Albatross  Black_Footed_Albatross_0014_89.jpg   70.0   50.0   \n",
       "\n",
       "    endX   endY  \n",
       "0  325.0  304.0  \n",
       "1  153.0  264.0  \n",
       "2  388.0  186.0  \n",
       "3  255.0  242.0  \n",
       "4  134.0  303.0  "
      ]
     },
     "execution_count": 92,
     "metadata": {},
     "output_type": "execute_result"
    }
   ],
   "source": []
  },
  {
   "cell_type": "code",
   "execution_count": 93,
   "metadata": {},
   "outputs": [
    {
     "data": {
      "text/plain": [
       "(11787, id                                                    11788\n",
       " file      200.Common_Yellowthroat/Common_Yellowthroat_00...\n",
       " Class                                   Common_Yellowthroat\n",
       " File                    Common_Yellowthroat_0055_190967.jpg\n",
       " startX                                                 20.0\n",
       " startY                                                113.0\n",
       " endX                                                  177.0\n",
       " endY                                                  263.0\n",
       " Name: 11787, dtype: object)"
      ]
     },
     "execution_count": 93,
     "metadata": {},
     "output_type": "execute_result"
    }
   ],
   "source": [
    "file"
   ]
  },
  {
   "cell_type": "code",
   "execution_count": 94,
   "metadata": {},
   "outputs": [],
   "source": [
    "im = Image.open(SOURCE+file[1].file)"
   ]
  },
  {
   "cell_type": "code",
   "execution_count": 75,
   "metadata": {},
   "outputs": [],
   "source": [
    "im.show()"
   ]
  },
  {
   "cell_type": "code",
   "execution_count": 116,
   "metadata": {},
   "outputs": [
    {
     "data": {
      "text/plain": [
       "(20, 113, 197, 376)"
      ]
     },
     "execution_count": 116,
     "metadata": {},
     "output_type": "execute_result"
    }
   ],
   "source": [
    "box = (int(float(file[1].startX)),\n",
    "       int(float(file[1].startY)),\n",
    "       int(float(file[1].endX))+int(float(file[1].startX)),\n",
    "       int(float(file[1].startY))+int(float(file[1].endY)))\n",
    "region = im.crop(box)\n"
   ]
  },
  {
   "cell_type": "code",
   "execution_count": 118,
   "metadata": {},
   "outputs": [
    {
     "data": {
      "text/plain": [
       "\u001b[0;31mSignature:\u001b[0m \u001b[0mregion\u001b[0m\u001b[0;34m.\u001b[0m\u001b[0msave\u001b[0m\u001b[0;34m(\u001b[0m\u001b[0mfp\u001b[0m\u001b[0;34m,\u001b[0m \u001b[0mformat\u001b[0m\u001b[0;34m=\u001b[0m\u001b[0;32mNone\u001b[0m\u001b[0;34m,\u001b[0m \u001b[0;34m**\u001b[0m\u001b[0mparams\u001b[0m\u001b[0;34m)\u001b[0m\u001b[0;34m\u001b[0m\u001b[0;34m\u001b[0m\u001b[0m\n",
       "\u001b[0;31mDocstring:\u001b[0m\n",
       "Saves this image under the given filename.  If no format is\n",
       "specified, the format to use is determined from the filename\n",
       "extension, if possible.\n",
       "\n",
       "Keyword options can be used to provide additional instructions\n",
       "to the writer. If a writer doesn't recognise an option, it is\n",
       "silently ignored. The available options are described in the\n",
       ":doc:`image format documentation\n",
       "<../handbook/image-file-formats>` for each writer.\n",
       "\n",
       "You can use a file object instead of a filename. In this case,\n",
       "you must always specify the format. The file object must\n",
       "implement the ``seek``, ``tell``, and ``write``\n",
       "methods, and be opened in binary mode.\n",
       "\n",
       ":param fp: A filename (string), pathlib.Path object or file object.\n",
       ":param format: Optional format override.  If omitted, the\n",
       "   format to use is determined from the filename extension.\n",
       "   If a file object was used instead of a filename, this\n",
       "   parameter should always be used.\n",
       ":param params: Extra parameters to the image writer.\n",
       ":returns: None\n",
       ":exception ValueError: If the output format could not be determined\n",
       "   from the file name.  Use the format option to solve this.\n",
       ":exception IOError: If the file could not be written.  The file\n",
       "   may have been created, and may contain partial data.\n",
       "\u001b[0;31mFile:\u001b[0m      ~/pe37/lib/python3.7/site-packages/PIL/Image.py\n",
       "\u001b[0;31mType:\u001b[0m      method\n"
      ]
     },
     "metadata": {},
     "output_type": "display_data"
    }
   ],
   "source": [
    "region.save?"
   ]
  },
  {
   "cell_type": "code",
   "execution_count": 102,
   "metadata": {},
   "outputs": [
    {
     "data": {
      "text/plain": [
       "20"
      ]
     },
     "execution_count": 102,
     "metadata": {},
     "output_type": "execute_result"
    }
   ],
   "source": [
    "int(float('20.0'))"
   ]
  },
  {
   "cell_type": "code",
   "execution_count": 99,
   "metadata": {},
   "outputs": [
    {
     "data": {
      "text/plain": [
       "\u001b[0;31mInit signature:\u001b[0m \u001b[0mint\u001b[0m\u001b[0;34m(\u001b[0m\u001b[0mself\u001b[0m\u001b[0;34m,\u001b[0m \u001b[0;34m/\u001b[0m\u001b[0;34m,\u001b[0m \u001b[0;34m*\u001b[0m\u001b[0margs\u001b[0m\u001b[0;34m,\u001b[0m \u001b[0;34m**\u001b[0m\u001b[0mkwargs\u001b[0m\u001b[0;34m)\u001b[0m\u001b[0;34m\u001b[0m\u001b[0;34m\u001b[0m\u001b[0m\n",
       "\u001b[0;31mDocstring:\u001b[0m     \n",
       "int([x]) -> integer\n",
       "int(x, base=10) -> integer\n",
       "\n",
       "Convert a number or string to an integer, or return 0 if no arguments\n",
       "are given.  If x is a number, return x.__int__().  For floating point\n",
       "numbers, this truncates towards zero.\n",
       "\n",
       "If x is not a number or if base is given, then x must be a string,\n",
       "bytes, or bytearray instance representing an integer literal in the\n",
       "given base.  The literal can be preceded by '+' or '-' and be surrounded\n",
       "by whitespace.  The base defaults to 10.  Valid bases are 0 and 2-36.\n",
       "Base 0 means to interpret the base from the string as an integer literal.\n",
       ">>> int('0b100', base=0)\n",
       "4\n",
       "\u001b[0;31mType:\u001b[0m           type\n",
       "\u001b[0;31mSubclasses:\u001b[0m     bool, IntEnum, IntFlag, _NamedIntConstant\n"
      ]
     },
     "metadata": {},
     "output_type": "display_data"
    }
   ],
   "source": [
    "int?"
   ]
  },
  {
   "cell_type": "code",
   "execution_count": null,
   "metadata": {},
   "outputs": [],
   "source": []
  }
 ],
 "metadata": {
  "kernelspec": {
   "display_name": "py37",
   "language": "python",
   "name": "py37"
  },
  "language_info": {
   "codemirror_mode": {
    "name": "ipython",
    "version": 3
   },
   "file_extension": ".py",
   "mimetype": "text/x-python",
   "name": "python",
   "nbconvert_exporter": "python",
   "pygments_lexer": "ipython3",
   "version": "3.7.3"
  }
 },
 "nbformat": 4,
 "nbformat_minor": 2
}
